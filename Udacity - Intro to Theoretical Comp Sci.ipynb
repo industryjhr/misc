{
 "cells": [
  {
   "cell_type": "markdown",
   "metadata": {},
   "source": [
    "# 1.1 - Challenging Problems\n",
    "\n",
    "Complexity Theory - resources required to solve the problem (time, space, etc)\n",
    "\n",
    "Computability - can a computer solve the problem at all?\n",
    "\n",
    "### Alice's Telecoms Problem\n",
    "\n",
    "Distributed telecoms nodes, connected by edges between some nodes (not all)\n",
    "\n",
    "Device to test connection between edges\n",
    "\n",
    "Minimum number of devices needed for all edges to be tested?\n",
    "\n",
    "Brute force check of every permutation: $2^n$"
   ]
  },
  {
   "cell_type": "markdown",
   "metadata": {
    "collapsed": true
   },
   "source": [
    "# 1.2 - Algorithm Analysis and the RAM\n",
    "\n",
    "Random Access Machine needs only: memory, input/output, programming capabilities\n",
    "\n",
    "From Steven Skiena's <i>The Algorithm Design Manual</i>\n",
    "\n",
    "Time on the RAM:\n",
    "<ol>\n",
    "    <li>\"simple\" operations take 1 <i>timestep</i></li>\n",
    "    <li>loops count as often as they are run</li>\n",
    "    <li>memory access is free (0 timesteps) -- doesn't count assignment, etc.</li>\n",
    "</ol>\n",
    "\n"
   ]
  },
  {
   "cell_type": "markdown",
   "metadata": {},
   "source": [
    "# 1.3 - Big O' Notation\n",
    "\n",
    "<ol>\n",
    "    <li>There exists some numbers $n',c$ so that $c*g(n') >= f(n')$</li>\n",
    "    <li>For all $n'' > n'$ we have $c*g(n'') >= f(n'')$</li>\n",
    "    <li>Means $f(n) \\in O(g(n))$ (\"$g(n)$ grows at least as fast as $f(n)$\")</li>\n",
    "</ol>\n",
    "\n",
    "$n + (n-1) + (n-2) ... + 2 + 1 = \\dfrac{n^2 + n}{2}$"
   ]
  },
  {
   "cell_type": "markdown",
   "metadata": {},
   "source": [
    "# 1.4 - Connecting Similar Problems\n",
    "\n",
    "Polynomial running time - eg. $100n^2$ - generally acceptable; \"tractable problems\"\n",
    "\n",
    "Exponential running time - eg. $2^n$ - typically unfeasible; \"intractable problems\"\n",
    "\n",
    "### Bob's Bioinformatics Problem\n",
    "\n",
    "Like Alice's, but find max group of nodes where all connected to each other (a <i>clique</i>)\n",
    "\n",
    "Also $2^n * n^2$\n",
    "\n",
    "### Carol's Finance Problem\n",
    "\n",
    "Largest number of portfolios (nodes) without any being directly connected (an <i>independent set</i>)\n",
    "\n",
    "\n",
    "Finding a large independent set in a graph means you can find the largest clique by \"inverting\" the edges (same vertices)\n",
    "\n",
    "Solving the independent set also means that (Alice's) <i>vertex cover</i> problem also solved -- those vertices not part of the independent set"
   ]
  },
  {
   "cell_type": "code",
   "execution_count": null,
   "metadata": {
    "collapsed": true
   },
   "outputs": [],
   "source": []
  }
 ],
 "metadata": {
  "kernelspec": {
   "display_name": "Python 3",
   "language": "python",
   "name": "python3"
  },
  "language_info": {
   "codemirror_mode": {
    "name": "ipython",
    "version": 3
   },
   "file_extension": ".py",
   "mimetype": "text/x-python",
   "name": "python",
   "nbconvert_exporter": "python",
   "pygments_lexer": "ipython3",
   "version": "3.4.3"
  }
 },
 "nbformat": 4,
 "nbformat_minor": 0
}
