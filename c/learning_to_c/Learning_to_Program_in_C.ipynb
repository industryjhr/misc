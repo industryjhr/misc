{
 "cells": [
  {
   "cell_type": "markdown",
   "metadata": {},
   "source": [
    "<h2><a href='https://www.youtube.com/playlist?list=PLkB3phqR3X40reMCBYSoNUPbDvM4kybMs'>Learning to Program in C</a> - Jonathan Engelsma [YT]<br></h2>\n",
    "...\n",
    "<a href='https://www.youtube.com/playlist?list=PL9D558D49CA734A02'>Programming Paradigms</a> - Stanford / Prof. Jerry Cain [YT]<br>"
   ]
  },
  {
   "cell_type": "code",
   "execution_count": 3,
   "metadata": {
    "collapsed": false
   },
   "outputs": [],
   "source": [
    "from subprocess import check_output\n",
    "\n",
    "def run_example(base_filename, inputs=''):\n",
    "    \"\"\"\n",
    "    Helper function to run C binaries.\n",
    "    \n",
    "    base_filename should be ./src/<base_filename>.c,\n",
    "    compiled binary ./bin/<base_filename>.\n",
    "    \"\"\"\n",
    "    \n",
    "    print(\"{}.c:\\n\".format(base_filename))\n",
    "    with open('src/{}.c'.format(base_filename)) as fhand:\n",
    "        for line in fhand.readlines():\n",
    "            print(\"{}\".format(line), end='')\n",
    "\n",
    "    if inputs:\n",
    "        print(\"\\n\\n\", \"-\"*50, \"\\nOutput:\\n\\n\",\n",
    "          check_output(['bin/{}'.format(base_filename)], input=inputs).decode('utf-8')\n",
    "        )\n",
    "    else:\n",
    "        print(\"\\n\\n\", \"-\"*50, \"\\nOutput:\\n\\n\",\n",
    "              check_output(['bin/{}'.format(base_filename)]).decode('utf-8')\n",
    "        )"
   ]
  },
  {
   "cell_type": "code",
   "execution_count": 92,
   "metadata": {
    "collapsed": false,
    "scrolled": false
   },
   "outputs": [
    {
     "name": "stdout",
     "output_type": "stream",
     "text": [
      "hello.c:\n",
      "\n",
      "#include <stdio.h> // header file; defines i/o routines (printf)\n",
      "\n",
      "int main(void) // <return type> name(args)\n",
      "{\n",
      "    printf(\"Hello World\\n\");\n",
      "    return(0); // something always returned (?)\n",
      "}\n",
      "\n",
      "\n",
      " -------------------------------------------------- \n",
      "Output:\n",
      "\n",
      " Hello World\n",
      "\n"
     ]
    }
   ],
   "source": [
    "run_example('hello')"
   ]
  },
  {
   "cell_type": "markdown",
   "metadata": {},
   "source": [
    "<h2>Intrinsic data types</h2>\n",
    "\n",
    "<b>char</b>\n",
    "<ul>\n",
    "    <li>typically 1 byte</li>\n",
    "    <li>eg. 'a', '5', 'F'</li>\n",
    "</ul>\n",
    "\n",
    "\n",
    "<b>int</b>\n",
    "<ul>\n",
    "    <li>typically 4 bytes</li>\n",
    "    <li>16 (decimal), 020 (octal), 0x10 (hex)</li>\n",
    "</ul>\n",
    "\n",
    "\n",
    "<b>float</b>\n",
    "<ul>\n",
    "    <li>typically 4 bytes</li>\n",
    "    <li>0.00225, 2.25e-3</li>\n",
    "</ul>\n",
    "\n",
    "<b>double</b> (extended precision float)\n",
    "<ul>\n",
    "    <li>typically 8 bytes</li>\n",
    "    <li>unless told otherwise (eg. 3.14f), floating point literals are assumed to be double</li>\n",
    "</ul>\n",
    "\n",
    "..."
   ]
  },
  {
   "cell_type": "markdown",
   "metadata": {},
   "source": [
    "<h2>Data types sizes vary by compiler</h2>\n",
    "\n",
    "sizes of ints and floats vary by compiler\n",
    "\n",
    "ANSI C defines the following:\n",
    "<ul><li>short int <= int <= long int</li>\n",
    "    <li>float <= double <= long double</li></ul>\n",
    "    \n",
    "C / C++ define a unary operator `sizeof`; can be used to determine amount of size any intrinsic type, union, or struct takes in bytes"
   ]
  },
  {
   "cell_type": "code",
   "execution_count": 97,
   "metadata": {
    "collapsed": false
   },
   "outputs": [
    {
     "name": "stdout",
     "output_type": "stream",
     "text": [
      "sizes.c:\n",
      "\n",
      "#include <stdio.h>\n",
      "\n",
      "int main(void)\n",
      "{\n",
      "    int i;\n",
      "    double d;\n",
      "    char c;\n",
      "\n",
      "    printf(\"The size of an int in bytes is: %lu.\\n\", (unsigned long)sizeof(i)); // casted to an unsigned long\n",
      "    printf(\"The size of a double in bytes is: %lu.\\n\", (unsigned long)sizeof(d)); // %lu formats unsigned long\n",
      "    printf(\"The size of a char in bytes is: %lu.\\n\", (unsigned long)sizeof(c));\n",
      "\n",
      "    return(0);\n",
      "}\n",
      "\n",
      "\n",
      " -------------------------------------------------- \n",
      "Output:\n",
      "\n",
      " The size of an int in bytes is: 4.\n",
      "The size of a double in bytes is: 8.\n",
      "The size of a char in bytes is: 1.\n",
      "\n"
     ]
    }
   ],
   "source": [
    "run_example('sizes')"
   ]
  },
  {
   "cell_type": "markdown",
   "metadata": {},
   "source": [
    "<p><h2>Type casting</h2></p>\n",
    "\n",
    "<p><tt>\n",
    "float f;<br>\n",
    "int i = 10;<br>\n",
    "f = (float) i; // assigned 10.0 to f<br>\n",
    "</tt></p>\n",
    "\n",
    "<p><tt>\n",
    "f = 3.14;<br>\n",
    "i = (int) f; // assigned 3 to i<br>\n",
    "</tt></p>"
   ]
  },
  {
   "cell_type": "markdown",
   "metadata": {},
   "source": [
    "<h2>I/O</h2>\n",
    "\n",
    "<tt>int getchar(void);</tt><br>\n",
    "<ul>\n",
    "    <li>reads the next character from standard input (if available)</li>\n",
    "    <li>returns EOF when end of file or error conditions are encountered</li>\n",
    "</ul>\n",
    "\n",
    "<tt>int putchar(int c);</tt><br>\n",
    "<ul>\n",
    "    <li>writes the character c (converted to an unsigned char) to stdout</li>\n",
    "    <li>returns the character that was written</li>\n",
    "</ul>\n",
    "\n",
    "<tt>printf(format_str, arg1, arg2, ...);</tt><br>\n",
    "<ul>\n",
    "    <li>prints formatted string to stdout</li>\n",
    "    <li>arguments are the variables to be printed</li>\n",
    "    <li>format string tells printf() how to display arguments</li>\n",
    "    <li>eg. <tt>printf(\"who: %s size: %d cost: %5.2f\",\"you\",12,1.4);</tt></li>\n",
    "</ul>\n",
    "\n",
    "<tt>scanf(format_str, &arg1, &arg2, ...); // '&' denotes address</tt><br>\n",
    "<ul>\n",
    "    <li>reads formatted input from stdin</li>\n",
    "    <li>arguments are the <i>addresses</i> of variables that will store the read values</li>\n",
    "    <li>format string tells <tt>scanf()</tt> how the input is formatted</li>\n",
    "    <li>eg. input data: y 101<br>\n",
    "        <ul><li><p><tt>char c;<br>\n",
    "                   int i;<br>\n",
    "                   scanf(\"%c %d\",&c,&i);</tt></p></li>\n",
    "        <li>y copied to address &c, 101 copied to address &i</li></ul>\n",
    "</ul>"
   ]
  },
  {
   "cell_type": "code",
   "execution_count": 98,
   "metadata": {
    "collapsed": false
   },
   "outputs": [
    {
     "name": "stdout",
     "output_type": "stream",
     "text": [
      "iodemo.c:\n",
      "\n",
      "#include <stdio.h>\n",
      "\n",
      "int main(void)\n",
      "{\n",
      "    char first,middle,last;\n",
      "    int age;\n",
      "\n",
      "    printf(\"Enter initials and age: \");\n",
      "    scanf(\"%c %c %c %d\", &first,&middle,&last,&age);\n",
      "    printf(\"My initials are %c%c%c and my age is %d.\\n\", first, middle, last, age);\n",
      "    return(0);\n",
      "}\n",
      "\n",
      "\n",
      " -------------------------------------------------- \n",
      "Output:\n",
      "\n",
      " Enter initials and age: My initials are abc and my age is 999.\n",
      "\n"
     ]
    }
   ],
   "source": [
    "run_example('iodemo', b'abc 999')"
   ]
  },
  {
   "cell_type": "markdown",
   "metadata": {},
   "source": [
    "<h2>Arithmetic and logical expressions</h2>\n",
    "\n",
    "Operator precedence:\n",
    "<ul>\n",
    "    <li>pointers, separators</li>\n",
    "    <li>unary operations</li>\n",
    "    <li>binary operations (PEMDAS)</li>\n",
    "    <li>bit-shift</li>\n",
    "    <li>logical comparison</li>\n",
    "    <li>bitwise mask</li>\n",
    "    <li>logical AND</li>\n",
    "    <li>logical OR</li>\n",
    "    <li>if/else</li>\n",
    "    <li>compact operators</li>\n",
    "    <li>separator</li>\n",
    "</ul>\n",
    "\n",
    "assignment operators +=, \\*=\n",
    "\n",
    "unary operators\n",
    "<p><tt>\n",
    "int i=2, j=3, m=7, k;<br>\n",
    "k = ++i + j; // i gets \"pre-incremented\" -- k holds 6<br>\n",
    "k = m-- + j; // m gets \"post-decremented\" -- k holds 10, m then decremented to 6<br>\n",
    "</tt></p>\n",
    "\n",
    "boolean evaluations like python\n",
    "\n"
   ]
  },
  {
   "cell_type": "code",
   "execution_count": 100,
   "metadata": {
    "collapsed": false
   },
   "outputs": [
    {
     "name": "stdout",
     "output_type": "stream",
     "text": [
      "expression.c:\n",
      "\n",
      "#include <stdio.h>\n",
      "\n",
      "int main(void)\n",
      "{\n",
      "    int a = 100;\n",
      "    int b = 2;\n",
      "    int c = 25;\n",
      "    int d = 4;\n",
      "    int result;\n",
      "\n",
      "    printf(\"a = 100\\n\");\n",
      "    printf(\"b = 2\\n\");\n",
      "    printf(\"c = 25\\n\");\n",
      "    printf(\"d = 4\\n\");\n",
      "\n",
      "    result = a - b;\n",
      "    printf(\"a - b = %i\\n\", result);\n",
      "\n",
      "    result = a * b;\n",
      "    printf(\"a * b = %i\\n\", result);\n",
      "\n",
      "    result = a / c;\n",
      "    printf(\"a / c = %i\\n\", result);\n",
      "\n",
      "    result = a + b * c; // precedence\n",
      "    printf(\"a + b * c = %i\\n\", result);\n",
      "\n",
      "    printf(\"a * b + c * d = %i\\n\", a * b + c * d);\n",
      "\n",
      "    return(0);\n",
      "}\n",
      "\n",
      "\n",
      " -------------------------------------------------- \n",
      "Output:\n",
      "\n",
      " a = 100\n",
      "b = 2\n",
      "c = 25\n",
      "d = 4\n",
      "a - b = 98\n",
      "a * b = 200\n",
      "a / c = 4\n",
      "a + b * c = 150\n",
      "a * b + c * d = 300\n",
      "\n"
     ]
    }
   ],
   "source": [
    "run_example(\"expression\")"
   ]
  },
  {
   "cell_type": "markdown",
   "metadata": {},
   "source": [
    "<h2>Looping and branching</h2>\n",
    "\n",
    "<b><tt>for</tt> loops</b>\n",
    "<p><tt>\n",
    "int i;<br>\n",
    "for (i=10; i>=0; i--) {\n",
    "<p style='margin-left:50px'>\n",
    "    print(\"%d\\n\", i);\n",
    "</p>\n",
    "}<br>\n",
    "printf(\"\\n>>Blast OFF<<\\n\");\n",
    "</tt></p>\n",
    "\n",
    "\n",
    "<b><tt>while</tt> loops</b>\n",
    "<p><tt>\n",
    "int cnt = 10;<br>\n",
    "while (cnt >= 0) {\n",
    "<p style='margin-left:50px'>\n",
    "    print(\"%d\\n\", cnt);<br>\n",
    "    cnt--;\n",
    "</p>\n",
    "}<br>\n",
    "printf(\"\\n>>Blast OFF<<\\n\");\n",
    "</tt></p>\n",
    "\n",
    "\n",
    "<b><tt>do while</tt> loops</b>\n",
    "<p><tt>\n",
    "int cnt = 10;<br>\n",
    "do {\n",
    "<p style='margin-left:50px'>\n",
    "    print(\"%d\\n\", cnt--);<br>\n",
    "</p>\n",
    "} while (cnt >= 0);<br>\n",
    "printf(\"\\n>>Blast OFF<<\\n\");\n",
    "</tt></p>\n",
    "\n",
    "<b><tt>break</tt></b> loops\n",
    "\n",
    "<b><tt>continue</tt></b> to next iteration\n",
    "\n",
    "<b><tt>if / else / else if</tt></b> branching\n",
    "\n",
    "<b><tt>switch / case</tt></b> control"
   ]
  },
  {
   "cell_type": "code",
   "execution_count": 6,
   "metadata": {
    "collapsed": false
   },
   "outputs": [
    {
     "name": "stdout",
     "output_type": "stream",
     "text": [
      "avg_fix.c:\n",
      "\n",
      "#include <stdio.h>\n",
      "\n",
      "int main(void)\n",
      "{\n",
      "\n",
      "    int i, numberOfNums=0, total=0, value;\n",
      "    float average;\n",
      "\n",
      "    printf(\"How many numbers are to be read?: \");\n",
      "    scanf(\"%d\", &numberOfNums);\n",
      "\n",
      "    for (i=0; i<numberOfNums; i++) {\n",
      "        scanf(\"%d\",&value);\n",
      "        total += value;\n",
      "        printf(\"Read %d\\n\",value);\n",
      "    }\n",
      "\n",
      "    average = (float)total / numberOfNums;\n",
      "    printf(\"%d values read.  Average: %f.\\n\", numberOfNums, average);\n",
      "\n",
      "    return (0);\n",
      "}\n",
      "\n",
      "\n",
      " -------------------------------------------------- \n",
      "Output:\n",
      "\n",
      " How many numbers are to be read?: Read 4\n",
      "Read 3\n",
      "Read 5\n",
      "3 values read.  Average: 4.000000.\n",
      "\n"
     ]
    }
   ],
   "source": [
    "run_example('avg_fix', b'3 4 3 5')"
   ]
  },
  {
   "cell_type": "code",
   "execution_count": 1,
   "metadata": {
    "collapsed": true
   },
   "outputs": [],
   "source": [
    "#run_example('avg_variable') // requires manual kill"
   ]
  },
  {
   "cell_type": "markdown",
   "metadata": {},
   "source": [
    "<h2>Arrays</h2>\n",
    "\n",
    "Declaration:\n",
    "<ul><li><tt>int values[100]; // referenced by values, holds 100 ints</tt></li>\n",
    "    <li><tt>char name[25]; // name holds 25 char values</tt></li>\n",
    "    <li><tt>char greeting[5] = {'h', 'e', 'l', 'l', 'o'}; // initialized with data</tt></li>\n",
    "    <li><tt>char name[] = {'f', 'r', 'e', 'd'}; // size allocated at compile time</tt></li>\n",
    "    <li><tt>int bigarray[] = {[0] = 1, [1] = 10, [999] = 0}; // particular elements set; size (1000) allocated at compile; undefined elements remain so</tt></li>\n",
    "</ul>\n",
    "\n",
    "Access and assignment:\n",
    "<ul><li><tt>int values[100]; // indexes 0-99</tt></li>\n",
    "    <li><tt>values[23] = 911;</tt></li>\n",
    "    <li><tt>int j = values[23];</tt></li>\n",
    "    <li><tt>values[j] = 912; // crashes, or \"uses garbage data\" ??</tt></li>\n",
    "</ul>\n",
    "\n",
    "Multi-dimensional arrays:\n",
    "<ul><li><tt>int values[2][2]; // 2x2 array</tt></li>\n",
    "    <li><tt>int values[2][2] = {{0,1},{1,0}};</tt></li>\n",
    "    <li><tt>int values[2][2] = {0,1,1,0}; // works like the above</tt></li>\n",
    "    <li><tt>int i = values[2][3]; // access</tt></li>\n",
    "    <li><tt>values[0][2] = 1000; // assignment</tt></li>\n",
    "</ul>"
   ]
  },
  {
   "cell_type": "markdown",
   "metadata": {},
   "source": [
    "<h2>File I/O</h2>\n",
    "\n",
    "<tt>fopen()</tt>: open text and binary files for read/write\n",
    "<tt>fclose()</tt>: close file\n",
    "\n",
    "dealing with errors:\n",
    "<ul><li><tt>errno</tt> - globally defined external integer that is set to the last error code</li>\n",
    "    <li><tt>#include &lt;errno.h&gt;</tt></li>\n",
    "    <li><tt>ferror()</tt> - returns errno for file ops</li>\n",
    "    <li><tt>perror()</tt> - output function for printing textual description of error</li>\n",
    "</ul>\n",
    "\n",
    "reading from files:\n",
    "<ul><li><tt>fscanf()</tt> - like <tt>scanf()</tt>, but input from a file</li>\n",
    "    <li><tt>fgetc()</tt> - read text file one character at a time</li>\n",
    "    <li><tt>fgets()</tt> - read text file one line at a time</li>\n",
    "</ul>\n",
    "\n",
    "writing to files:\n",
    "<ul><li><tt>fprintf()</tt> - like <tt>printf()</tt>, but output to a file</li>\n",
    "    <li><tt>fputc()</tt> - write to text file one character at a time</li>\n",
    "    <li><tt>fputs()</tt> - write to text file one line at a time</li>\n",
    "</ul>"
   ]
  },
  {
   "cell_type": "code",
   "execution_count": 6,
   "metadata": {
    "collapsed": true
   },
   "outputs": [
    {
     "name": "stdout",
     "output_type": "stream",
     "text": [
      "simplesort.c:\n",
      "\n",
      "#include <stdio.h>\n",
      "\n",
      "#define MAX 10 // pre-processor directive.. global var?\n",
      "\n",
      "int main(void)\n",
      "{\n",
      "    int data[MAX];\n",
      "    int i,j,tmp;\n",
      "    FILE *fp;\n",
      "\n",
      "    /* read in data */\n",
      "    fp = fopen(\"src/sort_input.txt\",\"r\");\n",
      "    if (fp == NULL) {\n",
      "        printf(\"Could not open file.\\n\");\n",
      "        return(0);\n",
      "    }\n",
      "\n",
      "    for (i=0; i<MAX; i++) {\n",
      "        fscanf(fp,\"%d\",&data[i]);\n",
      "    }\n",
      "    fclose(fp);\n",
      "\n",
      "    printf(\"Following items entered:\\n\");\n",
      "    for (i=0; i<MAX; i++) {\n",
      "        printf(\"Item #%d: %d\\n\",i,data[i]);\n",
      "    }\n",
      "\n",
      "    /* simple sort */\n",
      "    for (i=0; i<MAX; i++) {\n",
      "        for (j=i; j<MAX; j++) {\n",
      "            if (data[i] > data[j]) {\n",
      "                tmp = data[i];\n",
      "                data[i] = data[j];\n",
      "                data[j] = tmp;\n",
      "            }\n",
      "        }\n",
      "    }\n",
      "\n",
      "    printf(\"\\nSorted values:\\n\");\n",
      "    for (i=0; i<MAX; i++) {\n",
      "        printf(\"Item #%d: %d\\n\",i,data[i]);\n",
      "    }\n",
      "\n",
      "    return(0);\n",
      "}\n",
      "\n",
      "\n",
      " -------------------------------------------------- \n",
      "Output:\n",
      "\n",
      " Following items entered:\n",
      "Item #0: 14\n",
      "Item #1: 20\n",
      "Item #2: 1\n",
      "Item #3: 0\n",
      "Item #4: 49\n",
      "Item #5: 99\n",
      "Item #6: 10\n",
      "Item #7: 20\n",
      "Item #8: 11\n",
      "Item #9: 43\n",
      "\n",
      "Sorted values:\n",
      "Item #0: 0\n",
      "Item #1: 1\n",
      "Item #2: 10\n",
      "Item #3: 11\n",
      "Item #4: 14\n",
      "Item #5: 20\n",
      "Item #6: 20\n",
      "Item #7: 43\n",
      "Item #8: 49\n",
      "Item #9: 99\n",
      "\n"
     ]
    }
   ],
   "source": [
    "run_example('simplesort')"
   ]
  },
  {
   "cell_type": "code",
   "execution_count": null,
   "metadata": {
    "collapsed": true
   },
   "outputs": [],
   "source": []
  }
 ],
 "metadata": {
  "kernelspec": {
   "display_name": "Python 3",
   "language": "python",
   "name": "python3"
  },
  "language_info": {
   "codemirror_mode": {
    "name": "ipython",
    "version": 3
   },
   "file_extension": ".py",
   "mimetype": "text/x-python",
   "name": "python",
   "nbconvert_exporter": "python",
   "pygments_lexer": "ipython3",
   "version": "3.4.3"
  }
 },
 "nbformat": 4,
 "nbformat_minor": 0
}
